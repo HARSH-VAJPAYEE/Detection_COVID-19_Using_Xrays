{
  "nbformat": 4,
  "nbformat_minor": 0,
  "metadata": {
    "colab": {
      "provenance": []
    },
    "kernelspec": {
      "display_name": "Python 3",
      "name": "python3"
    },
    "language_info": {
      "name": "python"
    },
    "accelerator": "GPU"
  },
  "cells": [
    {
      "cell_type": "code",
      "metadata": {
        "colab": {
          "base_uri": "https://localhost:8080/"
        },
        "id": "tQdVf6AOVTtW",
        "outputId": "3f301e98-d674-4679-987c-6413e79a1fa6"
      },
      "source": [
        "# connect google drive to my colab\n",
        "from google.colab import drive\n",
        "drive.mount('/content/drive')"
      ],
      "execution_count": null,
      "outputs": [
        {
          "output_type": "stream",
          "name": "stdout",
          "text": [
            "Mounted at /content/drive\n"
          ]
        }
      ]
    },
    {
      "cell_type": "code",
      "metadata": {
        "id": "fNU86Dej8DVC"
      },
      "source": [
        "# import all libraries\n",
        "import numpy as np\n",
        "import keras\n",
        "from keras.layers import Dense, Conv2D,MaxPool2D,Dropout,Flatten\n",
        "from keras.models import Sequential \n",
        "from keras.preprocessing import image "
      ],
      "execution_count": null,
      "outputs": []
    },
    {
      "cell_type": "code",
      "metadata": {
        "id": "F2NmCm9k8HiK",
        "colab": {
          "base_uri": "https://localhost:8080/"
        },
        "outputId": "17c19e91-d3fd-4888-8ad8-5bc9dc06ebda"
      },
      "source": [
        "# import data set \n",
        "# by data generator we can do image augmentations: multiple dimension for our model to learn \n",
        "train_datagen= image.ImageDataGenerator(\n",
        "    rescale=1/255,horizontal_flip=True , zoom_range=0.2, shear_range=0.2)\n",
        "# calling data set for training\n",
        "train_data=train_datagen.flow_from_directory(directory=\"/content/drive/MyDrive/COVID-19_Radiography_Dataset/Train\",\n",
        "                                             target_size=(256,256), batch_size=16, class_mode=\"binary\")"
      ],
      "execution_count": null,
      "outputs": [
        {
          "output_type": "stream",
          "name": "stdout",
          "text": [
            "Found 5236 images belonging to 2 classes.\n"
          ]
        }
      ]
    },
    {
      "cell_type": "code",
      "metadata": {
        "colab": {
          "base_uri": "https://localhost:8080/"
        },
        "id": "V8pKJIt5gmL9",
        "outputId": "8306ede2-753b-4969-d20e-a412f3195a6c"
      },
      "source": [
        "# to show to classes : based on folder name \n",
        "train_data.class_indices"
      ],
      "execution_count": null,
      "outputs": [
        {
          "output_type": "execute_result",
          "data": {
            "text/plain": [
              "{'Covid': 0, 'Normal': 1}"
            ]
          },
          "metadata": {},
          "execution_count": 5
        }
      ]
    },
    {
      "cell_type": "code",
      "metadata": {
        "colab": {
          "base_uri": "https://localhost:8080/"
        },
        "id": "1iOIYceQg_XH",
        "outputId": "c8755dd7-be55-4d3d-9b87-2b4a1a0e4df2"
      },
      "source": [
        "# rescale the image \n",
        "test_datagen= image.ImageDataGenerator(rescale=1/255)\n",
        "test_data=test_datagen.flow_from_directory(directory=\"/content/drive/MyDrive/COVID-19_Radiography_Dataset/Val\",\n",
        "                                             target_size=(256,256), batch_size=16, class_mode=\"binary\")"
      ],
      "execution_count": null,
      "outputs": [
        {
          "output_type": "stream",
          "name": "stdout",
          "text": [
            "Found 1966 images belonging to 2 classes.\n"
          ]
        }
      ]
    },
    {
      "cell_type": "code",
      "metadata": {
        "colab": {
          "base_uri": "https://localhost:8080/"
        },
        "id": "2ZPspNRR-kmc",
        "outputId": "ac5ddd3e-6ee7-4007-bca1-d7429be42730"
      },
      "source": [
        "# cnn model\n",
        "model=Sequential()\n",
        "# low level feature, relu for non linerality; 3 rgb\n",
        "model.add(Conv2D(filters=32,kernel_size=(3,3),activation=\"relu\",input_shape=(256,256,3)))\n",
        "# increse filter\n",
        "model.add(Conv2D(filters=64,kernel_size=(3,3),activation=\"relu\"))\n",
        "model.add(MaxPool2D())\n",
        "model.add(Dropout(rate=0.25))\n",
        "\n",
        "model.add(Conv2D(filters=128,kernel_size=(3,3),activation=\"relu\"))\n",
        "model.add(MaxPool2D())\n",
        "model.add(Dropout(rate=0.25))\n",
        "\n",
        "# flatten the layer image get flaten\n",
        "# dense is multilayer perceptron\n",
        "\n",
        "model.add(Flatten())\n",
        "model.add(Dense(units= 64, activation=\"relu\"))\n",
        "# dropout to avoid overfitting\n",
        "model.add(Dropout(rate=0.5))   \n",
        "model.add(Dense(units=1, activation=\"sigmoid\"))  # sigmoid softmax\n",
        "model.compile(loss=keras.losses.binary_crossentropy,optimizer=\"adam\",metrics=['acc'])   #  rmsprop adam\n",
        "\n",
        "model.summary()\n"
      ],
      "execution_count": null,
      "outputs": [
        {
          "output_type": "stream",
          "name": "stdout",
          "text": [
            "Model: \"sequential\"\n",
            "_________________________________________________________________\n",
            " Layer (type)                Output Shape              Param #   \n",
            "=================================================================\n",
            " conv2d (Conv2D)             (None, 254, 254, 32)      896       \n",
            "                                                                 \n",
            " conv2d_1 (Conv2D)           (None, 252, 252, 64)      18496     \n",
            "                                                                 \n",
            " max_pooling2d (MaxPooling2D  (None, 126, 126, 64)     0         \n",
            " )                                                               \n",
            "                                                                 \n",
            " dropout (Dropout)           (None, 126, 126, 64)      0         \n",
            "                                                                 \n",
            " conv2d_2 (Conv2D)           (None, 124, 124, 128)     73856     \n",
            "                                                                 \n",
            " max_pooling2d_1 (MaxPooling  (None, 62, 62, 128)      0         \n",
            " 2D)                                                             \n",
            "                                                                 \n",
            " dropout_1 (Dropout)         (None, 62, 62, 128)       0         \n",
            "                                                                 \n",
            " flatten (Flatten)           (None, 492032)            0         \n",
            "                                                                 \n",
            " dense (Dense)               (None, 64)                31490112  \n",
            "                                                                 \n",
            " dropout_2 (Dropout)         (None, 64)                0         \n",
            "                                                                 \n",
            " dense_1 (Dense)             (None, 1)                 65        \n",
            "                                                                 \n",
            "=================================================================\n",
            "Total params: 31,583,425\n",
            "Trainable params: 31,583,425\n",
            "Non-trainable params: 0\n",
            "_________________________________________________________________\n"
          ]
        }
      ]
    },
    {
      "cell_type": "markdown",
      "metadata": {
        "id": "aKFdeDEWEt8j"
      },
      "source": [
        "train model"
      ]
    },
    {
      "cell_type": "code",
      "metadata": {
        "colab": {
          "base_uri": "https://localhost:8080/"
        },
        "id": "Xh8hRfe3-yVW",
        "outputId": "3ab32ff2-4800-4a11-b116-749c870ceaf7"
      },
      "source": [
        "model.fit(train_data,steps_per_epoch=20, epochs=50 ,validation_steps=2, validation_data=test_data)"
      ],
      "execution_count": null,
      "outputs": [
        {
          "output_type": "stream",
          "name": "stdout",
          "text": [
            "Epoch 1/50\n",
            "20/20 [==============================] - 118s 5s/step - loss: 1.9661 - acc: 0.5125 - val_loss: 0.6936 - val_acc: 0.4375\n",
            "Epoch 2/50\n",
            "20/20 [==============================] - 91s 5s/step - loss: 0.6949 - acc: 0.4643 - val_loss: 0.6931 - val_acc: 0.5000\n",
            "Epoch 3/50\n",
            "20/20 [==============================] - 93s 5s/step - loss: 0.6701 - acc: 0.6187 - val_loss: 0.6739 - val_acc: 0.6562\n",
            "Epoch 4/50\n",
            "20/20 [==============================] - 84s 4s/step - loss: 0.6325 - acc: 0.6469 - val_loss: 0.7051 - val_acc: 0.5000\n",
            "Epoch 5/50\n",
            "20/20 [==============================] - 85s 4s/step - loss: 0.6088 - acc: 0.6406 - val_loss: 0.6930 - val_acc: 0.5938\n",
            "Epoch 6/50\n",
            "20/20 [==============================] - 89s 4s/step - loss: 0.5551 - acc: 0.7188 - val_loss: 0.7526 - val_acc: 0.4062\n",
            "Epoch 7/50\n",
            "20/20 [==============================] - 84s 4s/step - loss: 0.5656 - acc: 0.7000 - val_loss: 0.7315 - val_acc: 0.6562\n",
            "Epoch 8/50\n",
            "20/20 [==============================] - 68s 3s/step - loss: 0.5554 - acc: 0.7156 - val_loss: 0.6421 - val_acc: 0.5938\n"
          ]
        }
      ]
    },
    {
      "cell_type": "code",
      "metadata": {
        "colab": {
          "base_uri": "https://localhost:8080/"
        },
        "id": "nPO8IN-H5sV2",
        "outputId": "f1478407-cbb8-4f48-f8a7-ce4618fff4ef"
      },
      "source": [
        "path=\"/content/drive/MyDrive/COVID-19_Radiography_Dataset/Val/Normal/Normal-6999.png\"\n",
        "img=image.load_img(path,target_size=(256,256))\n",
        "# conert image to number\n",
        "img=image.img_to_array(img)/255\n",
        "# 1D Array\n",
        "img=np.array([img])\n",
        "\n",
        "img.shape"
      ],
      "execution_count": null,
      "outputs": [
        {
          "output_type": "execute_result",
          "data": {
            "text/plain": [
              "(1, 256, 256, 3)"
            ]
          },
          "metadata": {},
          "execution_count": 18
        }
      ]
    },
    {
      "cell_type": "code",
      "metadata": {
        "colab": {
          "base_uri": "https://localhost:8080/"
        },
        "id": "eptTgFB96p3z",
        "outputId": "b55f08a6-db0c-4ba8-bca9-839f76ef60ab"
      },
      "source": [
        "# model.predict_classes(img)\n",
        "(model.predict(img) > 0.5).astype(\"int32\")"
      ],
      "execution_count": null,
      "outputs": [
        {
          "output_type": "execute_result",
          "data": {
            "text/plain": [
              "array([[1]], dtype=int32)"
            ]
          },
          "metadata": {},
          "execution_count": 19
        }
      ]
    },
    {
      "cell_type": "code",
      "metadata": {
        "colab": {
          "base_uri": "https://localhost:8080/"
        },
        "id": "xPLnsI53HbQv",
        "outputId": "b7f34fce-1bb2-4d9f-8f92-89037a08e582"
      },
      "source": [
        "path=\"/content/drive/MyDrive/COVID-19_Radiography_Dataset/Val/Covid/COVID-2619.png\"\n",
        "img=image.load_img(path,target_size=(256,256))\n",
        "img=image.img_to_array(img)/255\n",
        "\n",
        "img=np.array([img])\n",
        "\n",
        "img.shape\n",
        "(model.predict(img) > 0.5).astype(\"int32\")"
      ],
      "execution_count": null,
      "outputs": [
        {
          "output_type": "execute_result",
          "data": {
            "text/plain": [
              "array([[0]], dtype=int32)"
            ]
          },
          "metadata": {},
          "execution_count": 20
        }
      ]
    }
  ]
}